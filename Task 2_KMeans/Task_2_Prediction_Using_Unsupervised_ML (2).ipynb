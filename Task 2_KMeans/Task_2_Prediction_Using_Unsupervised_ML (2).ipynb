{
  "nbformat": 4,
  "nbformat_minor": 0,
  "metadata": {
    "colab": {
      "name": "Task 2-Prediction Using Unsupervised ML",
      "provenance": [],
      "collapsed_sections": []
    },
    "kernelspec": {
      "name": "python3",
      "display_name": "Python 3"
    },
    "language_info": {
      "name": "python"
    }
  },
  "cells": [
    {
      "cell_type": "markdown",
      "metadata": {
        "id": "f9yqfPom6SLo"
      },
      "source": [
        "#**THE SPARKS FOUNDATION**\n",
        "\n",
        "#**Graduate Rotational Internship Program**\n",
        "\n",
        "##***Data Science And Business Analytics Tasks***\n",
        "\n",
        "###**Author: Akash Jain**\n"
      ]
    },
    {
      "cell_type": "markdown",
      "metadata": {
        "id": "SKaetrF675dW"
      },
      "source": [
        "##**Prediction Using Unsupervised ML**\n",
        "\n",
        "###**Task:** From the given 'Iris' dataset, predict the optimum number of clusters and represent it visually.\n",
        "* This task is based on Kmeans clustering algorithm as we have to train a model which involves grouping of data for iris dataset species.\n",
        "* Dataset can be found at https://bit.ly/3kXTdox\n",
        "\n"
      ]
    },
    {
      "cell_type": "markdown",
      "metadata": {
        "id": "3lR5Lno_A-na"
      },
      "source": [
        "#Clustering\n",
        "* Clustering is an unsupervised learning method whose task is to divide the data points into a number of groups, such that data points in a group are more similar to other data points in the same group and dissimilar to the data points in other groups.\n",
        "* It is basically a collection of objects on the basis of similarity and dissimilarity between them."
      ]
    },
    {
      "cell_type": "markdown",
      "metadata": {
        "id": "12kwFpf7-hGf"
      },
      "source": [
        "#KMeans Clustering\n",
        "* KMeans clustering is the simplest Unsupervised Machine Learning algorithm in which the data are grouped into K number of clusters. \n",
        "* The algorithm aims at minimizing the within-cluster variance(so that similar observations fall in the same cluster).\n",
        "* It requires all variables to be numeric variables to be continous as it uses distance measure.\n",
        "\n",
        "#Steps Involved in Kmeans Algorithm to find best k clusters.\n",
        "1.   Choose K data points(randomly) to be the initial centroids(cluster centers)\n",
        "2.   Assign each data point to the closest centroid.\n",
        "3.   Calculate the mean coordinates of each cluster and assign these as a new centroids.\n",
        "4.   Reassign clusters based on new centroids.\n",
        "5.   Keep repeating steps 3 and 4 until convergence.\n",
        "\n"
      ]
    },
    {
      "cell_type": "markdown",
      "metadata": {
        "id": "6wcAJVZMFixX"
      },
      "source": [
        "#Import the required libraries"
      ]
    },
    {
      "cell_type": "code",
      "metadata": {
        "id": "yna-qkbdFrnK"
      },
      "source": [
        "import matplotlib.pyplot as plt\n",
        "import pandas as pd\n",
        "import numpy as np\n",
        "from sklearn.cluster import KMeans\n",
        "import sklearn.metrics as sm\n",
        "import seaborn as sn\n",
        "%matplotlib inline\n"
      ],
      "execution_count": 1,
      "outputs": []
    },
    {
      "cell_type": "markdown",
      "metadata": {
        "id": "QIjhuSYgRmYc"
      },
      "source": [
        "# Load the iris dataset\n"
      ]
    },
    {
      "cell_type": "code",
      "metadata": {
        "id": "2iFXNBEePhS8"
      },
      "source": [
        "df=pd.read_csv('Iris.csv')"
      ],
      "execution_count": 2,
      "outputs": []
    },
    {
      "cell_type": "markdown",
      "metadata": {
        "id": "1qPXGR_tRv0f"
      },
      "source": [
        "# Display first 5 rows of the dataset\n"
      ]
    },
    {
      "cell_type": "code",
      "metadata": {
        "colab": {
          "base_uri": "https://localhost:8080/",
          "height": 195
        },
        "id": "E39vDZCrRPKp",
        "outputId": "7484bfda-c006-413c-b968-953b3b59bb6a"
      },
      "source": [
        "df.head() "
      ],
      "execution_count": 3,
      "outputs": [
        {
          "output_type": "execute_result",
          "data": {
            "text/html": [
              "<div>\n",
              "<style scoped>\n",
              "    .dataframe tbody tr th:only-of-type {\n",
              "        vertical-align: middle;\n",
              "    }\n",
              "\n",
              "    .dataframe tbody tr th {\n",
              "        vertical-align: top;\n",
              "    }\n",
              "\n",
              "    .dataframe thead th {\n",
              "        text-align: right;\n",
              "    }\n",
              "</style>\n",
              "<table border=\"1\" class=\"dataframe\">\n",
              "  <thead>\n",
              "    <tr style=\"text-align: right;\">\n",
              "      <th></th>\n",
              "      <th>Id</th>\n",
              "      <th>SepalLengthCm</th>\n",
              "      <th>SepalWidthCm</th>\n",
              "      <th>PetalLengthCm</th>\n",
              "      <th>PetalWidthCm</th>\n",
              "      <th>Species</th>\n",
              "    </tr>\n",
              "  </thead>\n",
              "  <tbody>\n",
              "    <tr>\n",
              "      <th>0</th>\n",
              "      <td>1</td>\n",
              "      <td>5.1</td>\n",
              "      <td>3.5</td>\n",
              "      <td>1.4</td>\n",
              "      <td>0.2</td>\n",
              "      <td>Iris-setosa</td>\n",
              "    </tr>\n",
              "    <tr>\n",
              "      <th>1</th>\n",
              "      <td>2</td>\n",
              "      <td>4.9</td>\n",
              "      <td>3.0</td>\n",
              "      <td>1.4</td>\n",
              "      <td>0.2</td>\n",
              "      <td>Iris-setosa</td>\n",
              "    </tr>\n",
              "    <tr>\n",
              "      <th>2</th>\n",
              "      <td>3</td>\n",
              "      <td>4.7</td>\n",
              "      <td>3.2</td>\n",
              "      <td>1.3</td>\n",
              "      <td>0.2</td>\n",
              "      <td>Iris-setosa</td>\n",
              "    </tr>\n",
              "    <tr>\n",
              "      <th>3</th>\n",
              "      <td>4</td>\n",
              "      <td>4.6</td>\n",
              "      <td>3.1</td>\n",
              "      <td>1.5</td>\n",
              "      <td>0.2</td>\n",
              "      <td>Iris-setosa</td>\n",
              "    </tr>\n",
              "    <tr>\n",
              "      <th>4</th>\n",
              "      <td>5</td>\n",
              "      <td>5.0</td>\n",
              "      <td>3.6</td>\n",
              "      <td>1.4</td>\n",
              "      <td>0.2</td>\n",
              "      <td>Iris-setosa</td>\n",
              "    </tr>\n",
              "  </tbody>\n",
              "</table>\n",
              "</div>"
            ],
            "text/plain": [
              "   Id  SepalLengthCm  SepalWidthCm  PetalLengthCm  PetalWidthCm      Species\n",
              "0   1            5.1           3.5            1.4           0.2  Iris-setosa\n",
              "1   2            4.9           3.0            1.4           0.2  Iris-setosa\n",
              "2   3            4.7           3.2            1.3           0.2  Iris-setosa\n",
              "3   4            4.6           3.1            1.5           0.2  Iris-setosa\n",
              "4   5            5.0           3.6            1.4           0.2  Iris-setosa"
            ]
          },
          "metadata": {
            "tags": []
          },
          "execution_count": 3
        }
      ]
    },
    {
      "cell_type": "code",
      "metadata": {
        "colab": {
          "base_uri": "https://localhost:8080/",
          "height": 195
        },
        "id": "2n6hIpKLSN0B",
        "outputId": "55f2a967-8e13-4944-bf61-825b5f29e76d"
      },
      "source": [
        "#Since id is not a part of training ,testing ,visualizing model\n",
        "# So it is better to drop it\n",
        "df=df.drop(columns=['Id'])\n",
        "df.head()"
      ],
      "execution_count": 4,
      "outputs": [
        {
          "output_type": "execute_result",
          "data": {
            "text/html": [
              "<div>\n",
              "<style scoped>\n",
              "    .dataframe tbody tr th:only-of-type {\n",
              "        vertical-align: middle;\n",
              "    }\n",
              "\n",
              "    .dataframe tbody tr th {\n",
              "        vertical-align: top;\n",
              "    }\n",
              "\n",
              "    .dataframe thead th {\n",
              "        text-align: right;\n",
              "    }\n",
              "</style>\n",
              "<table border=\"1\" class=\"dataframe\">\n",
              "  <thead>\n",
              "    <tr style=\"text-align: right;\">\n",
              "      <th></th>\n",
              "      <th>SepalLengthCm</th>\n",
              "      <th>SepalWidthCm</th>\n",
              "      <th>PetalLengthCm</th>\n",
              "      <th>PetalWidthCm</th>\n",
              "      <th>Species</th>\n",
              "    </tr>\n",
              "  </thead>\n",
              "  <tbody>\n",
              "    <tr>\n",
              "      <th>0</th>\n",
              "      <td>5.1</td>\n",
              "      <td>3.5</td>\n",
              "      <td>1.4</td>\n",
              "      <td>0.2</td>\n",
              "      <td>Iris-setosa</td>\n",
              "    </tr>\n",
              "    <tr>\n",
              "      <th>1</th>\n",
              "      <td>4.9</td>\n",
              "      <td>3.0</td>\n",
              "      <td>1.4</td>\n",
              "      <td>0.2</td>\n",
              "      <td>Iris-setosa</td>\n",
              "    </tr>\n",
              "    <tr>\n",
              "      <th>2</th>\n",
              "      <td>4.7</td>\n",
              "      <td>3.2</td>\n",
              "      <td>1.3</td>\n",
              "      <td>0.2</td>\n",
              "      <td>Iris-setosa</td>\n",
              "    </tr>\n",
              "    <tr>\n",
              "      <th>3</th>\n",
              "      <td>4.6</td>\n",
              "      <td>3.1</td>\n",
              "      <td>1.5</td>\n",
              "      <td>0.2</td>\n",
              "      <td>Iris-setosa</td>\n",
              "    </tr>\n",
              "    <tr>\n",
              "      <th>4</th>\n",
              "      <td>5.0</td>\n",
              "      <td>3.6</td>\n",
              "      <td>1.4</td>\n",
              "      <td>0.2</td>\n",
              "      <td>Iris-setosa</td>\n",
              "    </tr>\n",
              "  </tbody>\n",
              "</table>\n",
              "</div>"
            ],
            "text/plain": [
              "   SepalLengthCm  SepalWidthCm  PetalLengthCm  PetalWidthCm      Species\n",
              "0            5.1           3.5            1.4           0.2  Iris-setosa\n",
              "1            4.9           3.0            1.4           0.2  Iris-setosa\n",
              "2            4.7           3.2            1.3           0.2  Iris-setosa\n",
              "3            4.6           3.1            1.5           0.2  Iris-setosa\n",
              "4            5.0           3.6            1.4           0.2  Iris-setosa"
            ]
          },
          "metadata": {
            "tags": []
          },
          "execution_count": 4
        }
      ]
    },
    {
      "cell_type": "markdown",
      "metadata": {
        "id": "t0nOk3BuR1ZZ"
      },
      "source": [
        "# Check no of rows and columns in the dataset\n"
      ]
    },
    {
      "cell_type": "code",
      "metadata": {
        "colab": {
          "base_uri": "https://localhost:8080/"
        },
        "id": "bRlLnPrlQAKa",
        "outputId": "b1e1749e-18f4-4258-f731-656111fd210e"
      },
      "source": [
        "df.shape "
      ],
      "execution_count": 5,
      "outputs": [
        {
          "output_type": "execute_result",
          "data": {
            "text/plain": [
              "(150, 5)"
            ]
          },
          "metadata": {
            "tags": []
          },
          "execution_count": 5
        }
      ]
    },
    {
      "cell_type": "markdown",
      "metadata": {
        "id": "p3Vzqb32TO-x"
      },
      "source": [
        "There are 150 rows and 4 columns in the dataframe"
      ]
    },
    {
      "cell_type": "markdown",
      "metadata": {
        "id": "w3YlSjHTRAGy"
      },
      "source": [
        "# Check if there are missing values on any columns and their data type\n"
      ]
    },
    {
      "cell_type": "code",
      "metadata": {
        "colab": {
          "base_uri": "https://localhost:8080/"
        },
        "id": "eioNMKCcQuTZ",
        "outputId": "4f88de69-b395-486f-8b56-f5ecc30057f3"
      },
      "source": [
        "df.isna().sum()"
      ],
      "execution_count": 6,
      "outputs": [
        {
          "output_type": "execute_result",
          "data": {
            "text/plain": [
              "SepalLengthCm    0\n",
              "SepalWidthCm     0\n",
              "PetalLengthCm    0\n",
              "PetalWidthCm     0\n",
              "Species          0\n",
              "dtype: int64"
            ]
          },
          "metadata": {
            "tags": []
          },
          "execution_count": 6
        }
      ]
    },
    {
      "cell_type": "markdown",
      "metadata": {
        "id": "E3uvohuzTZ3_"
      },
      "source": [
        "No missing values in the dataframe"
      ]
    },
    {
      "cell_type": "markdown",
      "metadata": {
        "id": "e4kU_CADSTi2"
      },
      "source": [
        "# Display the full summary of the dataframe"
      ]
    },
    {
      "cell_type": "code",
      "metadata": {
        "colab": {
          "base_uri": "https://localhost:8080/"
        },
        "id": "9scL3xAqQ7PR",
        "outputId": "9e9189d0-e3c0-4ddc-8876-854b921e1c9c"
      },
      "source": [
        "df.info()"
      ],
      "execution_count": 7,
      "outputs": [
        {
          "output_type": "stream",
          "text": [
            "<class 'pandas.core.frame.DataFrame'>\n",
            "RangeIndex: 150 entries, 0 to 149\n",
            "Data columns (total 5 columns):\n",
            " #   Column         Non-Null Count  Dtype  \n",
            "---  ------         --------------  -----  \n",
            " 0   SepalLengthCm  150 non-null    float64\n",
            " 1   SepalWidthCm   150 non-null    float64\n",
            " 2   PetalLengthCm  150 non-null    float64\n",
            " 3   PetalWidthCm   150 non-null    float64\n",
            " 4   Species        150 non-null    object \n",
            "dtypes: float64(4), object(1)\n",
            "memory usage: 6.0+ KB\n"
          ],
          "name": "stdout"
        }
      ]
    },
    {
      "cell_type": "code",
      "metadata": {
        "colab": {
          "base_uri": "https://localhost:8080/"
        },
        "id": "2B2ardHzOSqe",
        "outputId": "dfb9f30a-11bb-4b30-93dc-3a1e767e0c15"
      },
      "source": [
        "#to know all types of unique values\n",
        "df['Species'].unique()"
      ],
      "execution_count": 8,
      "outputs": [
        {
          "output_type": "execute_result",
          "data": {
            "text/plain": [
              "array(['Iris-setosa', 'Iris-versicolor', 'Iris-virginica'], dtype=object)"
            ]
          },
          "metadata": {
            "tags": []
          },
          "execution_count": 8
        }
      ]
    },
    {
      "cell_type": "code",
      "metadata": {
        "colab": {
          "base_uri": "https://localhost:8080/"
        },
        "id": "TE1e-WluTy95",
        "outputId": "f37cc3d0-8a46-4c3a-aa8c-45f82d298249"
      },
      "source": [
        "df['Species'].value_counts()"
      ],
      "execution_count": 9,
      "outputs": [
        {
          "output_type": "execute_result",
          "data": {
            "text/plain": [
              "Iris-setosa        50\n",
              "Iris-versicolor    50\n",
              "Iris-virginica     50\n",
              "Name: Species, dtype: int64"
            ]
          },
          "metadata": {
            "tags": []
          },
          "execution_count": 9
        }
      ]
    },
    {
      "cell_type": "code",
      "metadata": {
        "colab": {
          "base_uri": "https://localhost:8080/",
          "height": 284
        },
        "id": "yN1Vx3p_SLa5",
        "outputId": "466e3ca5-c295-4ec5-d883-96d8d8485c06"
      },
      "source": [
        "df.describe().round(2)"
      ],
      "execution_count": 10,
      "outputs": [
        {
          "output_type": "execute_result",
          "data": {
            "text/html": [
              "<div>\n",
              "<style scoped>\n",
              "    .dataframe tbody tr th:only-of-type {\n",
              "        vertical-align: middle;\n",
              "    }\n",
              "\n",
              "    .dataframe tbody tr th {\n",
              "        vertical-align: top;\n",
              "    }\n",
              "\n",
              "    .dataframe thead th {\n",
              "        text-align: right;\n",
              "    }\n",
              "</style>\n",
              "<table border=\"1\" class=\"dataframe\">\n",
              "  <thead>\n",
              "    <tr style=\"text-align: right;\">\n",
              "      <th></th>\n",
              "      <th>SepalLengthCm</th>\n",
              "      <th>SepalWidthCm</th>\n",
              "      <th>PetalLengthCm</th>\n",
              "      <th>PetalWidthCm</th>\n",
              "    </tr>\n",
              "  </thead>\n",
              "  <tbody>\n",
              "    <tr>\n",
              "      <th>count</th>\n",
              "      <td>150.00</td>\n",
              "      <td>150.00</td>\n",
              "      <td>150.00</td>\n",
              "      <td>150.00</td>\n",
              "    </tr>\n",
              "    <tr>\n",
              "      <th>mean</th>\n",
              "      <td>5.84</td>\n",
              "      <td>3.05</td>\n",
              "      <td>3.76</td>\n",
              "      <td>1.20</td>\n",
              "    </tr>\n",
              "    <tr>\n",
              "      <th>std</th>\n",
              "      <td>0.83</td>\n",
              "      <td>0.43</td>\n",
              "      <td>1.76</td>\n",
              "      <td>0.76</td>\n",
              "    </tr>\n",
              "    <tr>\n",
              "      <th>min</th>\n",
              "      <td>4.30</td>\n",
              "      <td>2.00</td>\n",
              "      <td>1.00</td>\n",
              "      <td>0.10</td>\n",
              "    </tr>\n",
              "    <tr>\n",
              "      <th>25%</th>\n",
              "      <td>5.10</td>\n",
              "      <td>2.80</td>\n",
              "      <td>1.60</td>\n",
              "      <td>0.30</td>\n",
              "    </tr>\n",
              "    <tr>\n",
              "      <th>50%</th>\n",
              "      <td>5.80</td>\n",
              "      <td>3.00</td>\n",
              "      <td>4.35</td>\n",
              "      <td>1.30</td>\n",
              "    </tr>\n",
              "    <tr>\n",
              "      <th>75%</th>\n",
              "      <td>6.40</td>\n",
              "      <td>3.30</td>\n",
              "      <td>5.10</td>\n",
              "      <td>1.80</td>\n",
              "    </tr>\n",
              "    <tr>\n",
              "      <th>max</th>\n",
              "      <td>7.90</td>\n",
              "      <td>4.40</td>\n",
              "      <td>6.90</td>\n",
              "      <td>2.50</td>\n",
              "    </tr>\n",
              "  </tbody>\n",
              "</table>\n",
              "</div>"
            ],
            "text/plain": [
              "       SepalLengthCm  SepalWidthCm  PetalLengthCm  PetalWidthCm\n",
              "count         150.00        150.00         150.00        150.00\n",
              "mean            5.84          3.05           3.76          1.20\n",
              "std             0.83          0.43           1.76          0.76\n",
              "min             4.30          2.00           1.00          0.10\n",
              "25%             5.10          2.80           1.60          0.30\n",
              "50%             5.80          3.00           4.35          1.30\n",
              "75%             6.40          3.30           5.10          1.80\n",
              "max             7.90          4.40           6.90          2.50"
            ]
          },
          "metadata": {
            "tags": []
          },
          "execution_count": 10
        }
      ]
    },
    {
      "cell_type": "code",
      "metadata": {
        "colab": {
          "base_uri": "https://localhost:8080/",
          "height": 195
        },
        "id": "va1940gSTJv-",
        "outputId": "99374cd5-3e8d-42e5-ec0b-20d8f57d44c2"
      },
      "source": [
        "#drop species as we have to cluster only numeric data\n",
        "iris = pd.DataFrame(df)\n",
        "df = iris.drop(columns=[\"Species\"])\n",
        "df.head()"
      ],
      "execution_count": 11,
      "outputs": [
        {
          "output_type": "execute_result",
          "data": {
            "text/html": [
              "<div>\n",
              "<style scoped>\n",
              "    .dataframe tbody tr th:only-of-type {\n",
              "        vertical-align: middle;\n",
              "    }\n",
              "\n",
              "    .dataframe tbody tr th {\n",
              "        vertical-align: top;\n",
              "    }\n",
              "\n",
              "    .dataframe thead th {\n",
              "        text-align: right;\n",
              "    }\n",
              "</style>\n",
              "<table border=\"1\" class=\"dataframe\">\n",
              "  <thead>\n",
              "    <tr style=\"text-align: right;\">\n",
              "      <th></th>\n",
              "      <th>SepalLengthCm</th>\n",
              "      <th>SepalWidthCm</th>\n",
              "      <th>PetalLengthCm</th>\n",
              "      <th>PetalWidthCm</th>\n",
              "    </tr>\n",
              "  </thead>\n",
              "  <tbody>\n",
              "    <tr>\n",
              "      <th>0</th>\n",
              "      <td>5.1</td>\n",
              "      <td>3.5</td>\n",
              "      <td>1.4</td>\n",
              "      <td>0.2</td>\n",
              "    </tr>\n",
              "    <tr>\n",
              "      <th>1</th>\n",
              "      <td>4.9</td>\n",
              "      <td>3.0</td>\n",
              "      <td>1.4</td>\n",
              "      <td>0.2</td>\n",
              "    </tr>\n",
              "    <tr>\n",
              "      <th>2</th>\n",
              "      <td>4.7</td>\n",
              "      <td>3.2</td>\n",
              "      <td>1.3</td>\n",
              "      <td>0.2</td>\n",
              "    </tr>\n",
              "    <tr>\n",
              "      <th>3</th>\n",
              "      <td>4.6</td>\n",
              "      <td>3.1</td>\n",
              "      <td>1.5</td>\n",
              "      <td>0.2</td>\n",
              "    </tr>\n",
              "    <tr>\n",
              "      <th>4</th>\n",
              "      <td>5.0</td>\n",
              "      <td>3.6</td>\n",
              "      <td>1.4</td>\n",
              "      <td>0.2</td>\n",
              "    </tr>\n",
              "  </tbody>\n",
              "</table>\n",
              "</div>"
            ],
            "text/plain": [
              "   SepalLengthCm  SepalWidthCm  PetalLengthCm  PetalWidthCm\n",
              "0            5.1           3.5            1.4           0.2\n",
              "1            4.9           3.0            1.4           0.2\n",
              "2            4.7           3.2            1.3           0.2\n",
              "3            4.6           3.1            1.5           0.2\n",
              "4            5.0           3.6            1.4           0.2"
            ]
          },
          "metadata": {
            "tags": []
          },
          "execution_count": 11
        }
      ]
    },
    {
      "cell_type": "markdown",
      "metadata": {
        "id": "yliHJe7AWq4W"
      },
      "source": [
        "# Correlation "
      ]
    },
    {
      "cell_type": "code",
      "metadata": {
        "colab": {
          "base_uri": "https://localhost:8080/",
          "height": 385
        },
        "id": "_lG-ki-yW7XQ",
        "outputId": "83d88934-0760-4c8c-a60d-af7e87d5e55b"
      },
      "source": [
        "#create a heatmap to demonstrate the correlation magnitude among the variables\n",
        "corr=df.corr().round(2)\n",
        "sn.set(font_scale=1.2)\n",
        "sn.heatmap(corr, xticklabels=corr.columns, yticklabels=corr.columns, annot=True) \n",
        "#annot argument writes the data value into each cell \n",
        "#fmt parameter add text to the heatmap cell and formats the cell values"
      ],
      "execution_count": 12,
      "outputs": [
        {
          "output_type": "execute_result",
          "data": {
            "text/plain": [
              "<matplotlib.axes._subplots.AxesSubplot at 0x7f75fdc823d0>"
            ]
          },
          "metadata": {
            "tags": []
          },
          "execution_count": 12
        },
        {
          "output_type": "display_data",
          "data": {
            "image/png": "[encoded data removed]",
            "text/plain": [
              "<Figure size 432x288 with 2 Axes>"
            ]
          },
          "metadata": {
            "tags": []
          }
        }
      ]
    },
    {
      "cell_type": "markdown",
      "metadata": {
        "id": "U8H7_EETYquh"
      },
      "source": [
        "* SepalLenth is positively correalted with PetalLenth and PetalWidth\n",
        "* PetalLenth and PetalWidth are positively correlated with each other\n",
        "* SepalWidth is negatively correlated with SepalLength, PetalLenth and PetalWidth"
      ]
    },
    {
      "cell_type": "markdown",
      "metadata": {
        "id": "QxGPINLMYa4b"
      },
      "source": [
        "#Finding the optimal number of clusters using elbow method  \n"
      ]
    },
    {
      "cell_type": "code",
      "metadata": {
        "id": "XQGhT5tvXRvc"
      },
      "source": [
        "from sklearn.cluster import KMeans\n",
        "\n",
        "#Converting our dataframe in array\n",
        "x=df.values \n",
        "\n",
        "# Calculating the Within-Cluster-Sum-of-Squares (WCSS).\n",
        "# WCSS is the sum of squares of the distances of each data point in all clusters to their respective centroids.\n",
        "WCSS = []\n",
        "\n",
        "# We are varying the no of clusters frowm 1 to 10 \n",
        "# and for each value of k ,we calculte WCSS\n",
        "# In Kmeans WCSS is calculated by .inertia_ method\n",
        "\n",
        "clusters_range = range(1,11)\n",
        "for i in clusters_range:\n",
        " km = KMeans(n_clusters=i, init=\"k-means++\",max_iter=300,n_init=10, random_state=0)\n",
        " # n_init=10: Kmeans algorithm will initialize centroids 10 times and will pick best fit value\n",
        " # max_iter=300: For every n_init run,it iterates 300 times(points assigned to different cluster and loss calculated 300 times and will pick which has miminum loss) \n",
        " # init=\"k-means++\": Best method for initializing cluster centers\n",
        " km = km.fit(x)\n",
        " WCSS.append(km.inertia_)\n",
        "\n"
      ],
      "execution_count": 13,
      "outputs": []
    },
    {
      "cell_type": "code",
      "metadata": {
        "colab": {
          "base_uri": "https://localhost:8080/"
        },
        "id": "23KIDR32l5Ry",
        "outputId": "2cad91e8-f793-4588-f247-3f55a410e4ee"
      },
      "source": [
        "print(WCSS)\n"
      ],
      "execution_count": 14,
      "outputs": [
        {
          "output_type": "stream",
          "text": [
            "[680.8244, 152.36870647733906, 78.94084142614602, 57.345409315718165, 46.53558205128205, 38.93873974358974, 34.19068792479662, 29.905374299825105, 27.927882157034972, 25.95549708624709]\n"
          ],
          "name": "stdout"
        }
      ]
    },
    {
      "cell_type": "code",
      "metadata": {
        "colab": {
          "base_uri": "https://localhost:8080/",
          "height": 360
        },
        "id": "PqXQIDRMYRnG",
        "outputId": "e0bf3e64-815d-467e-80c9-207f66d8b6ea"
      },
      "source": [
        "#Plotting the \"Within-Cluster-Sum-of-Squares\" against clusters range to observe 'The elbow'\n",
        "plt.figure(figsize=(7,5))\n",
        "plt.plot(clusters_range,WCSS,'go--',color='green')\n",
        "plt.title('The Elbow Method')\n",
        "plt.xlabel('Number of Clusters')\n",
        "plt.ylabel('Within-Cluster-Sum-of-Squares')\n",
        "plt.show()"
      ],
      "execution_count": 15,
      "outputs": [
        {
          "output_type": "display_data",
          "data": {
            "image/png": "[encoded data removed]",
            "text/plain": [
              "<Figure size 504x360 with 1 Axes>"
            ]
          },
          "metadata": {
            "tags": []
          }
        }
      ]
    },
    {
      "cell_type": "markdown",
      "metadata": {
        "id": "ko6TYQX1nsL7"
      },
      "source": [
        "We see that after 3 the drop in WCSS is minimal.So we choose 3 as the optimal number of clusters"
      ]
    },
    {
      "cell_type": "markdown",
      "metadata": {
        "id": "OqW6FLUfZ69C"
      },
      "source": [
        "#Training the K-means model on a dataset  \n"
      ]
    },
    {
      "cell_type": "code",
      "metadata": {
        "id": "WGsbnVvFZ-GM"
      },
      "source": [
        "# Now we have n_clusters optimum value, so we again apply kmeans algorithm and cluster the data\n",
        "kmeans = KMeans(n_clusters=3, init='k-means++',max_iter=300, n_init=10,random_state= 0)  \n",
        "y_predict= kmeans.fit_predict(x)"
      ],
      "execution_count": 16,
      "outputs": []
    },
    {
      "cell_type": "code",
      "metadata": {
        "colab": {
          "base_uri": "https://localhost:8080/"
        },
        "id": "gQv822W2zVGG",
        "outputId": "5c5cdfb8-2878-4ce2-9c74-2074b8da86cc"
      },
      "source": [
        "y_predict"
      ],
      "execution_count": 17,
      "outputs": [
        {
          "output_type": "execute_result",
          "data": {
            "text/plain": [
              "array([1, 1, 1, 1, 1, 1, 1, 1, 1, 1, 1, 1, 1, 1, 1, 1, 1, 1, 1, 1, 1, 1,\n",
              "       1, 1, 1, 1, 1, 1, 1, 1, 1, 1, 1, 1, 1, 1, 1, 1, 1, 1, 1, 1, 1, 1,\n",
              "       1, 1, 1, 1, 1, 1, 2, 2, 0, 2, 2, 2, 2, 2, 2, 2, 2, 2, 2, 2, 2, 2,\n",
              "       2, 2, 2, 2, 2, 2, 2, 2, 2, 2, 2, 0, 2, 2, 2, 2, 2, 2, 2, 2, 2, 2,\n",
              "       2, 2, 2, 2, 2, 2, 2, 2, 2, 2, 2, 2, 0, 2, 0, 0, 0, 0, 2, 0, 0, 0,\n",
              "       0, 0, 0, 2, 2, 0, 0, 0, 0, 2, 0, 2, 0, 2, 0, 0, 2, 2, 0, 0, 0, 0,\n",
              "       0, 2, 0, 0, 0, 0, 2, 0, 0, 0, 2, 0, 0, 0, 2, 0, 0, 2], dtype=int32)"
            ]
          },
          "metadata": {
            "tags": []
          },
          "execution_count": 17
        }
      ]
    },
    {
      "cell_type": "markdown",
      "metadata": {
        "id": "tutQcA0czXZg"
      },
      "source": [
        "Kmeans Model clusters data into 3 categorical values\n",
        "* 0: Iris-setosa\n",
        "* 1: Iris-versicolor\n",
        "* 2: Iris-virginica"
      ]
    },
    {
      "cell_type": "markdown",
      "metadata": {
        "id": "7N2gtBsYbIIO"
      },
      "source": [
        "# Check parameters of trained data\n"
      ]
    },
    {
      "cell_type": "code",
      "metadata": {
        "colab": {
          "base_uri": "https://localhost:8080/"
        },
        "id": "dnNiTJTDaaLx",
        "outputId": "65fb3a7e-cf56-4369-c231-4a9a9c56043a"
      },
      "source": [
        "# returns centroid of the cluster formed\n",
        "kmeans.cluster_centers_"
      ],
      "execution_count": 18,
      "outputs": [
        {
          "output_type": "execute_result",
          "data": {
            "text/plain": [
              "array([[6.85      , 3.07368421, 5.74210526, 2.07105263],\n",
              "       [5.006     , 3.418     , 1.464     , 0.244     ],\n",
              "       [5.9016129 , 2.7483871 , 4.39354839, 1.43387097]])"
            ]
          },
          "metadata": {
            "tags": []
          },
          "execution_count": 18
        }
      ]
    },
    {
      "cell_type": "code",
      "metadata": {
        "colab": {
          "base_uri": "https://localhost:8080/"
        },
        "id": "yqIs8ZfLbMgI",
        "outputId": "4ecee37c-8c75-4d7e-d0c6-8493c6dfcd8f"
      },
      "source": [
        "labels = kmeans.labels_\n",
        "labels"
      ],
      "execution_count": 19,
      "outputs": [
        {
          "output_type": "execute_result",
          "data": {
            "text/plain": [
              "array([1, 1, 1, 1, 1, 1, 1, 1, 1, 1, 1, 1, 1, 1, 1, 1, 1, 1, 1, 1, 1, 1,\n",
              "       1, 1, 1, 1, 1, 1, 1, 1, 1, 1, 1, 1, 1, 1, 1, 1, 1, 1, 1, 1, 1, 1,\n",
              "       1, 1, 1, 1, 1, 1, 2, 2, 0, 2, 2, 2, 2, 2, 2, 2, 2, 2, 2, 2, 2, 2,\n",
              "       2, 2, 2, 2, 2, 2, 2, 2, 2, 2, 2, 0, 2, 2, 2, 2, 2, 2, 2, 2, 2, 2,\n",
              "       2, 2, 2, 2, 2, 2, 2, 2, 2, 2, 2, 2, 0, 2, 0, 0, 0, 0, 2, 0, 0, 0,\n",
              "       0, 0, 0, 2, 2, 0, 0, 0, 0, 2, 0, 2, 0, 2, 0, 0, 2, 2, 0, 0, 0, 0,\n",
              "       0, 2, 0, 0, 0, 0, 2, 0, 0, 0, 2, 0, 0, 0, 2, 0, 0, 2], dtype=int32)"
            ]
          },
          "metadata": {
            "tags": []
          },
          "execution_count": 19
        }
      ]
    },
    {
      "cell_type": "markdown",
      "metadata": {
        "id": "CsQWwbqZkrZE"
      },
      "source": [
        "# Visualizing the Model Cluster"
      ]
    },
    {
      "cell_type": "code",
      "metadata": {
        "id": "olvVXVGt2D-A"
      },
      "source": [
        "# Plot each cluster with respective label on columns 0 and 1 as x and y axis respectively."
      ],
      "execution_count": 20,
      "outputs": []
    },
    {
      "cell_type": "code",
      "metadata": {
        "colab": {
          "base_uri": "https://localhost:8080/",
          "height": 523
        },
        "id": "dqnzROFxcaXM",
        "outputId": "a426935f-5483-4c84-f95a-79de6573e738"
      },
      "source": [
        "# Visualising the clusters\n",
        "plt.figure(figsize=(15,8))\n",
        "plt.scatter(x[y_predict==0,0], x[y_predict==0,1], s=80, c='red', label='Iris-Setosa')\n",
        "plt.scatter(x[y_predict==1,0], x[y_predict==1,1], s=80, c='green', label='Iris-Versicolor')\n",
        "plt.scatter(x[y_predict==2,0], x[y_predict==2,1], s=80, c='blue', label='Iris-Virginica')\n",
        "\n",
        "# Plotting the centroids of the clusters\n",
        "plt.scatter(kmeans.cluster_centers_[:,0], kmeans.cluster_centers_[:,1], s=80, c='yellow', label='Centroids')\n",
        "plt.xlabel('Sepal length in cm')\n",
        "plt.ylabel('Sepal Width in cm')\n",
        "plt.title('K-Means Clustering')\n",
        "plt.legend()\n",
        "plt.show()"
      ],
      "execution_count": 21,
      "outputs": [
        {
          "output_type": "display_data",
          "data": {
            "image/png": "[encoded data removed]",
            "text/plain": [
              "<Figure size 1080x576 with 1 Axes>"
            ]
          },
          "metadata": {
            "tags": []
          }
        }
      ]
    },
    {
      "cell_type": "markdown",
      "metadata": {
        "id": "4HdmJqfIkLkf"
      },
      "source": [
        "#Model Metrics"
      ]
    },
    {
      "cell_type": "code",
      "metadata": {
        "colab": {
          "base_uri": "https://localhost:8080/"
        },
        "id": "5UbgB-M7l_wu",
        "outputId": "4461defc-8997-4489-f005-bf662ddfc560"
      },
      "source": [
        "from sklearn import metrics\n",
        "# Calculating Silhouette Score\n",
        "print('Silhouette Score: ',metrics.silhouette_score(x, labels, metric='euclidean'))\n",
        "#Calculating Calinski and Harabasz Score\n",
        "print('Calinski and Harabasz Score: ',metrics.calinski_harabasz_score(x, labels))"
      ],
      "execution_count": 22,
      "outputs": [
        {
          "output_type": "stream",
          "text": [
            "Silhouette Score:  0.5525919445499757\n",
            "Calinski and Harabasz Score:  560.3999242466401\n"
          ],
          "name": "stdout"
        }
      ]
    },
    {
      "cell_type": "markdown",
      "metadata": {
        "id": "xa7-bHTWrvOL"
      },
      "source": [
        "* Silhouette Score shows that our model is 55% efficient for clustering\n",
        "* Since Calinski and Harabasz Score is high,it means clusters are dense and well seperated"
      ]
    },
    {
      "cell_type": "markdown",
      "metadata": {
        "id": "fN1twRpKpLMO"
      },
      "source": [
        "##**We can conclude that 3 optimal clusters required for the dataset and visualized it properly.**\n"
      ]
    },
    {
      "cell_type": "markdown",
      "metadata": {
        "id": "GYNDfXMDp5ja"
      },
      "source": [
        "Task Completed Successfully!\n",
        "\n"
      ]
    },
    {
      "cell_type": "code",
      "metadata": {
        "id": "TAbSR-__qStG"
      },
      "source": [
        ""
      ],
      "execution_count": 22,
      "outputs": []
    }
  ]
}