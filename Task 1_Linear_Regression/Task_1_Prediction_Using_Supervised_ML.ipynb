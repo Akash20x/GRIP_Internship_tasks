{
  "nbformat": 4,
  "nbformat_minor": 0,
  "metadata": {
    "colab": {
      "name": "Task 1-Prediction Using Supervised ML",
      "provenance": [],
      "collapsed_sections": []
    },
    "kernelspec": {
      "name": "python3",
      "display_name": "Python 3"
    },
    "language_info": {
      "name": "python"
    }
  },
  "cells": [
    {
      "cell_type": "markdown",
      "metadata": {
        "id": "f9yqfPom6SLo"
      },
      "source": [
        "#**THE SPARKS FOUNDATION**\n",
        "\n",
        "#**Graduate Rotational Internship Program**\n",
        "\n",
        "##***Data Science And Business Analytics Tasks***\n",
        "\n",
        "###**Author: Akash Jain**\n"
      ]
    },
    {
      "cell_type": "markdown",
      "metadata": {
        "id": "SKaetrF675dW"
      },
      "source": [
        "##**Prediction Using Supervised ML**\n",
        "\n",
        "###Predict the percentage of a student based on the no. of study hours\n",
        "* This is a simple linear regression task as it involves only 2 variables.\n",
        "* Dataset can be found at http://bit.ly/w-data\n",
        "* What will be predicted score if a student studies for 9.25 hrs/day?\n",
        "\n"
      ]
    },
    {
      "cell_type": "code",
      "metadata": {
        "id": "ejDslNVa_UWG"
      },
      "source": [
        "# Simple linear regression\n",
        "# It is a supervised machine learning model where the model finds a linear relationship between the single independent variable (x)\n",
        "# and the single output(dependent) variable (y) using a best fit straight line ."
      ],
      "execution_count": 1,
      "outputs": []
    },
    {
      "cell_type": "markdown",
      "metadata": {
        "id": "6wcAJVZMFixX"
      },
      "source": [
        "#Import the required libraries"
      ]
    },
    {
      "cell_type": "code",
      "metadata": {
        "id": "yna-qkbdFrnK"
      },
      "source": [
        "import pandas as pd\n",
        "import numpy as np\n",
        "import matplotlib.pyplot as plt \n",
        "import seaborn as sn\n",
        "from sklearn.model_selection import train_test_split\n",
        "from sklearn.linear_model import LinearRegression\n",
        "from sklearn import metrics\n",
        "%matplotlib inline\n"
      ],
      "execution_count": 2,
      "outputs": []
    },
    {
      "cell_type": "markdown",
      "metadata": {
        "id": "QIjhuSYgRmYc"
      },
      "source": [
        "# Load the data and store it in df dataframe\n"
      ]
    },
    {
      "cell_type": "code",
      "metadata": {
        "id": "2iFXNBEePhS8"
      },
      "source": [
        "df=pd.read_csv('http://bit.ly/w-data')"
      ],
      "execution_count": 3,
      "outputs": []
    },
    {
      "cell_type": "markdown",
      "metadata": {
        "id": "1qPXGR_tRv0f"
      },
      "source": [
        "# Display first 5 rows of the dataset\n"
      ]
    },
    {
      "cell_type": "code",
      "metadata": {
        "colab": {
          "base_uri": "https://localhost:8080/",
          "height": 195
        },
        "id": "E39vDZCrRPKp",
        "outputId": "43980b79-d603-4eb3-8ad7-b8b7113df49f"
      },
      "source": [
        "df.head() "
      ],
      "execution_count": 4,
      "outputs": [
        {
          "output_type": "execute_result",
          "data": {
            "text/html": [
              "<div>\n",
              "<style scoped>\n",
              "    .dataframe tbody tr th:only-of-type {\n",
              "        vertical-align: middle;\n",
              "    }\n",
              "\n",
              "    .dataframe tbody tr th {\n",
              "        vertical-align: top;\n",
              "    }\n",
              "\n",
              "    .dataframe thead th {\n",
              "        text-align: right;\n",
              "    }\n",
              "</style>\n",
              "<table border=\"1\" class=\"dataframe\">\n",
              "  <thead>\n",
              "    <tr style=\"text-align: right;\">\n",
              "      <th></th>\n",
              "      <th>Hours</th>\n",
              "      <th>Scores</th>\n",
              "    </tr>\n",
              "  </thead>\n",
              "  <tbody>\n",
              "    <tr>\n",
              "      <th>0</th>\n",
              "      <td>2.5</td>\n",
              "      <td>21</td>\n",
              "    </tr>\n",
              "    <tr>\n",
              "      <th>1</th>\n",
              "      <td>5.1</td>\n",
              "      <td>47</td>\n",
              "    </tr>\n",
              "    <tr>\n",
              "      <th>2</th>\n",
              "      <td>3.2</td>\n",
              "      <td>27</td>\n",
              "    </tr>\n",
              "    <tr>\n",
              "      <th>3</th>\n",
              "      <td>8.5</td>\n",
              "      <td>75</td>\n",
              "    </tr>\n",
              "    <tr>\n",
              "      <th>4</th>\n",
              "      <td>3.5</td>\n",
              "      <td>30</td>\n",
              "    </tr>\n",
              "  </tbody>\n",
              "</table>\n",
              "</div>"
            ],
            "text/plain": [
              "   Hours  Scores\n",
              "0    2.5      21\n",
              "1    5.1      47\n",
              "2    3.2      27\n",
              "3    8.5      75\n",
              "4    3.5      30"
            ]
          },
          "metadata": {
            "tags": []
          },
          "execution_count": 4
        }
      ]
    },
    {
      "cell_type": "markdown",
      "metadata": {
        "id": "t0nOk3BuR1ZZ"
      },
      "source": [
        "# Check no of rows and columns in the dataset\n"
      ]
    },
    {
      "cell_type": "code",
      "metadata": {
        "colab": {
          "base_uri": "https://localhost:8080/"
        },
        "id": "bRlLnPrlQAKa",
        "outputId": "ce26b873-6584-4c8b-c703-e30b4fa79542"
      },
      "source": [
        "df.shape "
      ],
      "execution_count": 5,
      "outputs": [
        {
          "output_type": "execute_result",
          "data": {
            "text/plain": [
              "(25, 2)"
            ]
          },
          "metadata": {
            "tags": []
          },
          "execution_count": 5
        }
      ]
    },
    {
      "cell_type": "markdown",
      "metadata": {
        "id": "p3Vzqb32TO-x"
      },
      "source": [
        "There are 25 rows and 2 columns in the dataframe"
      ]
    },
    {
      "cell_type": "markdown",
      "metadata": {
        "id": "w3YlSjHTRAGy"
      },
      "source": [
        "# Check if there are missing values on any columns and their data type\n"
      ]
    },
    {
      "cell_type": "code",
      "metadata": {
        "colab": {
          "base_uri": "https://localhost:8080/"
        },
        "id": "eioNMKCcQuTZ",
        "outputId": "1a4f5a37-f848-4024-b1b9-4e6d22a0e87f"
      },
      "source": [
        "df.isna().sum()"
      ],
      "execution_count": 6,
      "outputs": [
        {
          "output_type": "execute_result",
          "data": {
            "text/plain": [
              "Hours     0\n",
              "Scores    0\n",
              "dtype: int64"
            ]
          },
          "metadata": {
            "tags": []
          },
          "execution_count": 6
        }
      ]
    },
    {
      "cell_type": "markdown",
      "metadata": {
        "id": "E3uvohuzTZ3_"
      },
      "source": [
        "No missing values in the dataframe"
      ]
    },
    {
      "cell_type": "markdown",
      "metadata": {
        "id": "e4kU_CADSTi2"
      },
      "source": [
        "# Display the full summary of the dataframe"
      ]
    },
    {
      "cell_type": "code",
      "metadata": {
        "colab": {
          "base_uri": "https://localhost:8080/"
        },
        "id": "9scL3xAqQ7PR",
        "outputId": "b704f0ee-2ce2-4317-e23d-3cd968f07704"
      },
      "source": [
        "df.info()"
      ],
      "execution_count": 7,
      "outputs": [
        {
          "output_type": "stream",
          "text": [
            "<class 'pandas.core.frame.DataFrame'>\n",
            "RangeIndex: 25 entries, 0 to 24\n",
            "Data columns (total 2 columns):\n",
            " #   Column  Non-Null Count  Dtype  \n",
            "---  ------  --------------  -----  \n",
            " 0   Hours   25 non-null     float64\n",
            " 1   Scores  25 non-null     int64  \n",
            "dtypes: float64(1), int64(1)\n",
            "memory usage: 528.0 bytes\n"
          ],
          "name": "stdout"
        }
      ]
    },
    {
      "cell_type": "code",
      "metadata": {
        "colab": {
          "base_uri": "https://localhost:8080/",
          "height": 284
        },
        "id": "yN1Vx3p_SLa5",
        "outputId": "08d5bfd0-4a7c-4b02-849e-24e1d126c340"
      },
      "source": [
        "df.describe()"
      ],
      "execution_count": 8,
      "outputs": [
        {
          "output_type": "execute_result",
          "data": {
            "text/html": [
              "<div>\n",
              "<style scoped>\n",
              "    .dataframe tbody tr th:only-of-type {\n",
              "        vertical-align: middle;\n",
              "    }\n",
              "\n",
              "    .dataframe tbody tr th {\n",
              "        vertical-align: top;\n",
              "    }\n",
              "\n",
              "    .dataframe thead th {\n",
              "        text-align: right;\n",
              "    }\n",
              "</style>\n",
              "<table border=\"1\" class=\"dataframe\">\n",
              "  <thead>\n",
              "    <tr style=\"text-align: right;\">\n",
              "      <th></th>\n",
              "      <th>Hours</th>\n",
              "      <th>Scores</th>\n",
              "    </tr>\n",
              "  </thead>\n",
              "  <tbody>\n",
              "    <tr>\n",
              "      <th>count</th>\n",
              "      <td>25.000000</td>\n",
              "      <td>25.000000</td>\n",
              "    </tr>\n",
              "    <tr>\n",
              "      <th>mean</th>\n",
              "      <td>5.012000</td>\n",
              "      <td>51.480000</td>\n",
              "    </tr>\n",
              "    <tr>\n",
              "      <th>std</th>\n",
              "      <td>2.525094</td>\n",
              "      <td>25.286887</td>\n",
              "    </tr>\n",
              "    <tr>\n",
              "      <th>min</th>\n",
              "      <td>1.100000</td>\n",
              "      <td>17.000000</td>\n",
              "    </tr>\n",
              "    <tr>\n",
              "      <th>25%</th>\n",
              "      <td>2.700000</td>\n",
              "      <td>30.000000</td>\n",
              "    </tr>\n",
              "    <tr>\n",
              "      <th>50%</th>\n",
              "      <td>4.800000</td>\n",
              "      <td>47.000000</td>\n",
              "    </tr>\n",
              "    <tr>\n",
              "      <th>75%</th>\n",
              "      <td>7.400000</td>\n",
              "      <td>75.000000</td>\n",
              "    </tr>\n",
              "    <tr>\n",
              "      <th>max</th>\n",
              "      <td>9.200000</td>\n",
              "      <td>95.000000</td>\n",
              "    </tr>\n",
              "  </tbody>\n",
              "</table>\n",
              "</div>"
            ],
            "text/plain": [
              "           Hours     Scores\n",
              "count  25.000000  25.000000\n",
              "mean    5.012000  51.480000\n",
              "std     2.525094  25.286887\n",
              "min     1.100000  17.000000\n",
              "25%     2.700000  30.000000\n",
              "50%     4.800000  47.000000\n",
              "75%     7.400000  75.000000\n",
              "max     9.200000  95.000000"
            ]
          },
          "metadata": {
            "tags": []
          },
          "execution_count": 8
        }
      ]
    },
    {
      "cell_type": "markdown",
      "metadata": {
        "id": "9PTPKAznT2rd"
      },
      "source": [
        "* A student can get minimum score to be 17 and maximum score to be 95 \n",
        "* An observation to be made that no student in the dataset studied less than 1 hour.\n",
        "* A student can study minimum 1 hour and maximum study for 9 hour 20 minutes \n"
      ]
    },
    {
      "cell_type": "markdown",
      "metadata": {
        "id": "yliHJe7AWq4W"
      },
      "source": [
        "# Correlation "
      ]
    },
    {
      "cell_type": "code",
      "metadata": {
        "colab": {
          "base_uri": "https://localhost:8080/",
          "height": 293
        },
        "id": "_lG-ki-yW7XQ",
        "outputId": "9a0aa1c6-bc6e-4a84-eaef-ec8c082596bc"
      },
      "source": [
        "#create a heatmap to demonstrate the correlation magnitude among the variables\n",
        "corr=df.corr().round(2)\n",
        "sn.set(font_scale=1.2)\n",
        "sn.heatmap(corr, xticklabels=corr.columns, yticklabels=corr.columns, annot=True) \n",
        "#annot argument writes the data value into each cell \n",
        "#fmt parameter add text to the heatmap cell and formats the cell values"
      ],
      "execution_count": 9,
      "outputs": [
        {
          "output_type": "execute_result",
          "data": {
            "text/plain": [
              "<matplotlib.axes._subplots.AxesSubplot at 0x7fbc221bed50>"
            ]
          },
          "metadata": {
            "tags": []
          },
          "execution_count": 9
        },
        {
          "output_type": "display_data",
          "data": {
            "image/png": "[encoded data removed]",
            "text/plain": [
              "<Figure size 432x288 with 2 Axes>"
            ]
          },
          "metadata": {
            "tags": []
          }
        }
      ]
    },
    {
      "cell_type": "markdown",
      "metadata": {
        "id": "U8H7_EETYquh"
      },
      "source": [
        "98% correlation between Hours and Scores"
      ]
    },
    {
      "cell_type": "markdown",
      "metadata": {
        "id": "90KmWGBPY6s0"
      },
      "source": [
        "# Data Visualization"
      ]
    },
    {
      "cell_type": "code",
      "metadata": {
        "colab": {
          "base_uri": "https://localhost:8080/",
          "height": 315
        },
        "id": "wRvPTsWwXt0H",
        "outputId": "6a514942-9167-4e71-8fb3-c0e0e64079f5"
      },
      "source": [
        "#check the scatterplot of the dataset\n",
        "sn.set_style('darkgrid')\n",
        "sn.scatterplot(y= df['Scores'], x= df['Hours'])\n",
        "plt.title('Scores Vs Study Hours',size=25)\n",
        "plt.ylabel('Scores Percentage', size=15)\n",
        "plt.xlabel('Study Hours', size=15)\n",
        "plt.show()"
      ],
      "execution_count": 10,
      "outputs": [
        {
          "output_type": "display_data",
          "data": {
            "image/png": "[encoded data removed]",
            "text/plain": [
              "<Figure size 432x288 with 1 Axes>"
            ]
          },
          "metadata": {
            "tags": []
          }
        }
      ]
    },
    {
      "cell_type": "markdown",
      "metadata": {
        "id": "BGxfec5xZ6tQ"
      },
      "source": [
        "* The plot shows that there is a linear curve between Hours and \n",
        "Scores so we get the idea to use linear regression.\n",
        "* So we try to plot a regression line to find out relationship between variables."
      ]
    },
    {
      "cell_type": "code",
      "metadata": {
        "colab": {
          "base_uri": "https://localhost:8080/",
          "height": 309
        },
        "id": "6PX_IIb7ZivV",
        "outputId": "0a5f2f0f-3a85-4d3c-90e3-9ecd567c6533"
      },
      "source": [
        "# plot a regressionplot to display the regression line\n",
        "sn.regplot(x= df['Hours'], y= df['Scores'])\n",
        "plt.title('Regression Plot',size=20)\n",
        "plt.ylabel('Scores Percentage', size=12)\n",
        "plt.xlabel('Study Hours', size=12)\n",
        "plt.show()"
      ],
      "execution_count": 11,
      "outputs": [
        {
          "output_type": "display_data",
          "data": {
            "image/png": "[encoded data removed]",
            "text/plain": [
              "<Figure size 432x288 with 1 Axes>"
            ]
          },
          "metadata": {
            "tags": []
          }
        }
      ]
    },
    {
      "cell_type": "markdown",
      "metadata": {
        "id": "f_v0aIKabxo1"
      },
      "source": [
        "#Preparing the data"
      ]
    },
    {
      "cell_type": "code",
      "metadata": {
        "id": "5uZotPNCbAr2"
      },
      "source": [
        "X=df.iloc[:,:-1].values\n",
        "y=df.iloc[:,-1].values"
      ],
      "execution_count": 12,
      "outputs": []
    },
    {
      "cell_type": "markdown",
      "metadata": {
        "id": "fCs3i6XbcNtR"
      },
      "source": [
        "#Splitting the data using Scikit-Learn built in train_test_split() method"
      ]
    },
    {
      "cell_type": "code",
      "metadata": {
        "id": "0zZADjMcWqRp"
      },
      "source": [
        "train_X, test_X, train_y ,test_y= train_test_split(X, y,random_state = 0)"
      ],
      "execution_count": 13,
      "outputs": []
    },
    {
      "cell_type": "markdown",
      "metadata": {
        "id": "JUwcJpx_c44T"
      },
      "source": [
        "#Train the data with linear regression model "
      ]
    },
    {
      "cell_type": "code",
      "metadata": {
        "colab": {
          "base_uri": "https://localhost:8080/"
        },
        "id": "bWvteZufWWBA",
        "outputId": "f9ea392f-e2a6-4b65-de2d-c93c2676905b"
      },
      "source": [
        "model = LinearRegression()\n",
        "model.fit(train_X, train_y)"
      ],
      "execution_count": 14,
      "outputs": [
        {
          "output_type": "execute_result",
          "data": {
            "text/plain": [
              "LinearRegression(copy_X=True, fit_intercept=True, n_jobs=None, normalize=False)"
            ]
          },
          "metadata": {
            "tags": []
          },
          "execution_count": 14
        }
      ]
    },
    {
      "cell_type": "markdown",
      "metadata": {
        "id": "MbDEFb_YdkA7"
      },
      "source": [
        "# Check parameters of trained data"
      ]
    },
    {
      "cell_type": "code",
      "metadata": {
        "colab": {
          "base_uri": "https://localhost:8080/"
        },
        "id": "R5b_5aJrVSBA",
        "outputId": "800d8e7d-afb5-40af-b092-ea6ebeaa1283"
      },
      "source": [
        "# Intercept and slope of the regrssion line\n",
        "print(model.intercept_)\n",
        "print(model.coef_)"
      ],
      "execution_count": 15,
      "outputs": [
        {
          "output_type": "stream",
          "text": [
            "1.9322042531516601\n",
            "[9.94167834]\n"
          ],
          "name": "stdout"
        }
      ]
    },
    {
      "cell_type": "markdown",
      "metadata": {
        "id": "4HdmJqfIkLkf"
      },
      "source": [
        "#Model Accuracy"
      ]
    },
    {
      "cell_type": "code",
      "metadata": {
        "colab": {
          "base_uri": "https://localhost:8080/"
        },
        "id": "kEDdbsgLkO3Y",
        "outputId": "9e0f22df-d262-4139-d1b0-9669f6ca4fcc"
      },
      "source": [
        "accuracy=model.score(train_X, train_y).round(2)*100\n",
        "accuracy"
      ],
      "execution_count": 16,
      "outputs": [
        {
          "output_type": "execute_result",
          "data": {
            "text/plain": [
              "95.0"
            ]
          },
          "metadata": {
            "tags": []
          },
          "execution_count": 16
        }
      ]
    },
    {
      "cell_type": "markdown",
      "metadata": {
        "id": "dexwnLP6gngo"
      },
      "source": [
        "#Predicting Values for test data"
      ]
    },
    {
      "cell_type": "code",
      "metadata": {
        "colab": {
          "base_uri": "https://localhost:8080/",
          "height": 254
        },
        "id": "jshw7FcLd4Xu",
        "outputId": "756cf04b-5c66-46a3-de4a-70b469685811"
      },
      "source": [
        "pred_percent = model.predict(test_X)\n",
        "prediction_table = pd.DataFrame({'Study Hours': [i[0] for i in test_X], 'Predicted_Scores': [k for k in pred_percent]})\n",
        "prediction_table"
      ],
      "execution_count": 17,
      "outputs": [
        {
          "output_type": "execute_result",
          "data": {
            "text/html": [
              "<div>\n",
              "<style scoped>\n",
              "    .dataframe tbody tr th:only-of-type {\n",
              "        vertical-align: middle;\n",
              "    }\n",
              "\n",
              "    .dataframe tbody tr th {\n",
              "        vertical-align: top;\n",
              "    }\n",
              "\n",
              "    .dataframe thead th {\n",
              "        text-align: right;\n",
              "    }\n",
              "</style>\n",
              "<table border=\"1\" class=\"dataframe\">\n",
              "  <thead>\n",
              "    <tr style=\"text-align: right;\">\n",
              "      <th></th>\n",
              "      <th>Study Hours</th>\n",
              "      <th>Predicted_Scores</th>\n",
              "    </tr>\n",
              "  </thead>\n",
              "  <tbody>\n",
              "    <tr>\n",
              "      <th>0</th>\n",
              "      <td>1.5</td>\n",
              "      <td>16.844722</td>\n",
              "    </tr>\n",
              "    <tr>\n",
              "      <th>1</th>\n",
              "      <td>3.2</td>\n",
              "      <td>33.745575</td>\n",
              "    </tr>\n",
              "    <tr>\n",
              "      <th>2</th>\n",
              "      <td>7.4</td>\n",
              "      <td>75.500624</td>\n",
              "    </tr>\n",
              "    <tr>\n",
              "      <th>3</th>\n",
              "      <td>2.5</td>\n",
              "      <td>26.786400</td>\n",
              "    </tr>\n",
              "    <tr>\n",
              "      <th>4</th>\n",
              "      <td>5.9</td>\n",
              "      <td>60.588106</td>\n",
              "    </tr>\n",
              "    <tr>\n",
              "      <th>5</th>\n",
              "      <td>3.8</td>\n",
              "      <td>39.710582</td>\n",
              "    </tr>\n",
              "    <tr>\n",
              "      <th>6</th>\n",
              "      <td>1.9</td>\n",
              "      <td>20.821393</td>\n",
              "    </tr>\n",
              "  </tbody>\n",
              "</table>\n",
              "</div>"
            ],
            "text/plain": [
              "   Study Hours  Predicted_Scores\n",
              "0          1.5         16.844722\n",
              "1          3.2         33.745575\n",
              "2          7.4         75.500624\n",
              "3          2.5         26.786400\n",
              "4          5.9         60.588106\n",
              "5          3.8         39.710582\n",
              "6          1.9         20.821393"
            ]
          },
          "metadata": {
            "tags": []
          },
          "execution_count": 17
        }
      ]
    },
    {
      "cell_type": "markdown",
      "metadata": {
        "id": "b_ekBeHnhAXv"
      },
      "source": [
        "#Compare Actual Scores and Predicted Scores in percentage"
      ]
    },
    {
      "cell_type": "code",
      "metadata": {
        "colab": {
          "base_uri": "https://localhost:8080/",
          "height": 254
        },
        "id": "ZTx4j_AMVIC_",
        "outputId": "47c78a97-bf40-46ce-8d1a-ef46bd54d1ce"
      },
      "source": [
        "cmp_scores = pd.DataFrame({'Actual_Scores': test_y, 'Predicted_Scores': pred_percent})\n",
        "cmp_scores"
      ],
      "execution_count": 18,
      "outputs": [
        {
          "output_type": "execute_result",
          "data": {
            "text/html": [
              "<div>\n",
              "<style scoped>\n",
              "    .dataframe tbody tr th:only-of-type {\n",
              "        vertical-align: middle;\n",
              "    }\n",
              "\n",
              "    .dataframe tbody tr th {\n",
              "        vertical-align: top;\n",
              "    }\n",
              "\n",
              "    .dataframe thead th {\n",
              "        text-align: right;\n",
              "    }\n",
              "</style>\n",
              "<table border=\"1\" class=\"dataframe\">\n",
              "  <thead>\n",
              "    <tr style=\"text-align: right;\">\n",
              "      <th></th>\n",
              "      <th>Actual_Scores</th>\n",
              "      <th>Predicted_Scores</th>\n",
              "    </tr>\n",
              "  </thead>\n",
              "  <tbody>\n",
              "    <tr>\n",
              "      <th>0</th>\n",
              "      <td>20</td>\n",
              "      <td>16.844722</td>\n",
              "    </tr>\n",
              "    <tr>\n",
              "      <th>1</th>\n",
              "      <td>27</td>\n",
              "      <td>33.745575</td>\n",
              "    </tr>\n",
              "    <tr>\n",
              "      <th>2</th>\n",
              "      <td>69</td>\n",
              "      <td>75.500624</td>\n",
              "    </tr>\n",
              "    <tr>\n",
              "      <th>3</th>\n",
              "      <td>30</td>\n",
              "      <td>26.786400</td>\n",
              "    </tr>\n",
              "    <tr>\n",
              "      <th>4</th>\n",
              "      <td>62</td>\n",
              "      <td>60.588106</td>\n",
              "    </tr>\n",
              "    <tr>\n",
              "      <th>5</th>\n",
              "      <td>35</td>\n",
              "      <td>39.710582</td>\n",
              "    </tr>\n",
              "    <tr>\n",
              "      <th>6</th>\n",
              "      <td>24</td>\n",
              "      <td>20.821393</td>\n",
              "    </tr>\n",
              "  </tbody>\n",
              "</table>\n",
              "</div>"
            ],
            "text/plain": [
              "   Actual_Scores  Predicted_Scores\n",
              "0             20         16.844722\n",
              "1             27         33.745575\n",
              "2             69         75.500624\n",
              "3             30         26.786400\n",
              "4             62         60.588106\n",
              "5             35         39.710582\n",
              "6             24         20.821393"
            ]
          },
          "metadata": {
            "tags": []
          },
          "execution_count": 18
        }
      ]
    },
    {
      "cell_type": "code",
      "metadata": {
        "colab": {
          "base_uri": "https://localhost:8080/",
          "height": 315
        },
        "id": "nWMGFPOcO6KM",
        "outputId": "0c5dff42-d89a-40c0-bdb7-8d47acd9d4f5"
      },
      "source": [
        "#plotting Graph \n",
        "plt.scatter(x=test_X, y=test_y, color='blue')\n",
        "plt.plot(test_X, pred_percent, color='Black')\n",
        "plt.title('Actual vs Predicted', size=25)\n",
        "plt.ylabel('Scores Percentage', size=15)\n",
        "plt.xlabel('Study Hours', size=15)\n",
        "plt.show()"
      ],
      "execution_count": 19,
      "outputs": [
        {
          "output_type": "display_data",
          "data": {
            "image/png": "[encoded data removed]",
            "text/plain": [
              "<Figure size 432x288 with 1 Axes>"
            ]
          },
          "metadata": {
            "tags": []
          }
        }
      ]
    },
    {
      "cell_type": "code",
      "metadata": {
        "id": "kEh3n5CGlJv_"
      },
      "source": [
        ""
      ],
      "execution_count": 19,
      "outputs": []
    },
    {
      "cell_type": "markdown",
      "metadata": {
        "id": "FbS3AGTelQsc"
      },
      "source": [
        "#Error Determination\n"
      ]
    },
    {
      "cell_type": "code",
      "metadata": {
        "colab": {
          "base_uri": "https://localhost:8080/"
        },
        "id": "T-aZoNd4lThf",
        "outputId": "1cbdfe67-b1f3-4c3e-aeec-fee934e56237"
      },
      "source": [
        "# Calculating Mean Absolute Error\n",
        "print('Mean absolute error: ',metrics.mean_absolute_error(test_y,pred_percent))\n",
        "#Calculating R2 Score\n",
        "print('Coefficient of Determination: ',metrics.r2_score(test_y,pred_percent))\n",
        "# Calculating Mean Squared Error\n",
        "print('Mean squared error',np.sqrt(metrics.mean_squared_error(test_y,pred_percent)))\n"
      ],
      "execution_count": 20,
      "outputs": [
        {
          "output_type": "stream",
          "text": [
            "Mean absolute error:  4.130879918502482\n",
            "Coefficient of Determination:  0.9367661043365056\n",
            "Mean squared error 4.509204328368805\n"
          ],
          "name": "stdout"
        }
      ]
    },
    {
      "cell_type": "markdown",
      "metadata": {
        "id": "xTZepIeblsbv"
      },
      "source": [
        "* As Mean absolute error & Mean squared error values are lower and R2 score value is high so it means the efficiency is good and prediction is Efficient\n",
        "\n"
      ]
    },
    {
      "cell_type": "markdown",
      "metadata": {
        "id": "HPFKESk2lzup"
      },
      "source": [
        "#Solving Problem Statement\n",
        "* What will be predicted score if a student studies for 9.25 hrs/day?"
      ]
    },
    {
      "cell_type": "code",
      "metadata": {
        "colab": {
          "base_uri": "https://localhost:8080/"
        },
        "id": "FTLa9jCEmCuy",
        "outputId": "f7f3d74f-d8d5-477a-bcfb-30da23200e5a"
      },
      "source": [
        "hours = [9.25]\n",
        "ans = model.predict([hours])\n",
        "print(*ans.round(2))"
      ],
      "execution_count": 21,
      "outputs": [
        {
          "output_type": "stream",
          "text": [
            "93.89\n"
          ],
          "name": "stdout"
        }
      ]
    },
    {
      "cell_type": "markdown",
      "metadata": {
        "id": "bqaVeLfxmTLD"
      },
      "source": [
        "#We can conclude that  if a student studies for 9.25 hours a day he is likely to score 93.89 Percentage.\n",
        "\n",
        "Task Completed Successfully!"
      ]
    },
    {
      "cell_type": "code",
      "metadata": {
        "id": "PkC1_9onmMBN"
      },
      "source": [
        ""
      ],
      "execution_count": 21,
      "outputs": []
    }
  ]
}
